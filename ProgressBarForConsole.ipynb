{
 "cells": [
  {
   "source": [
    "<h1>Sample Notebook for printing a progress bar to the console</h1>"
   ],
   "cell_type": "markdown",
   "metadata": {}
  },
  {
   "cell_type": "code",
   "execution_count": 1,
   "metadata": {},
   "outputs": [],
   "source": [
    "# Print iterations progress\n",
    "def printProgressBar(iteration, total, prefix = '', suffix = '', decimals = 1, width = 100, fill = '█', printEnd = \"\\r\"):\n",
    "    \"\"\"\n",
    "    Call in a loop to create terminal progress bar\n",
    "    @params:\n",
    "        iteration   - Required  :  Int : current iteration\n",
    "        total       - Required  :  Int : total iterations\n",
    "        prefix      - Optional  :  Str : prefix string\n",
    "        suffix      - Optional  :  Str : suffix string\n",
    "        decimals    - Optional  :  Int : positive number of decimals in percent complete\n",
    "        width       - Optional  :  Int : character length of bar\n",
    "        fill        - Optional  :  Str : bar fill character\n",
    "        printEnd    - Optional  :  Str : end character (e.g. \"\\r\", \"\\r\\n\")\n",
    "    \"\"\"\n",
    "    percent = (\"{0:.\" + str(decimals) + \"f}\").format(100 * (iteration / float(total)))\n",
    "    filledLength = int(width * iteration // total)\n",
    "    bar = fill * filledLength + '-' * (width - filledLength)\n",
    "    \n",
    "    print(f'\\r{prefix} |{bar}| {percent}% {suffix}', end = printEnd)\n",
    "    \n",
    "    # After completion we print a new line\n",
    "    if (iteration == total): \n",
    "        print()"
   ]
  },
  {
   "cell_type": "code",
   "execution_count": 2,
   "metadata": {},
   "outputs": [
    {
     "name": "stdout",
     "output_type": "stream",
     "text": [
      "Progress: |██████████████████████████████████████████████████| 100.0% Complete\n"
     ]
    }
   ],
   "source": [
    "import time\n",
    "\n",
    "# Any list of items to iterate over\n",
    "items = list(range(0, 82))\n",
    "l = len(items)\n",
    "\n",
    "# Initial call to print 0% progress\n",
    "printProgressBar(0, l, prefix = 'Progress:', suffix = 'Complete', width = 50)\n",
    "for i, item in enumerate(items):\n",
    "    # Here we can do our computation...\n",
    "    time.sleep(0.1)\n",
    "    # Update Progress Bar\n",
    "    printProgressBar(i + 1, l, prefix = 'Progress:', suffix = 'Complete', width = 50)"
   ]
  },
  {
   "cell_type": "code",
   "execution_count": null,
   "metadata": {},
   "outputs": [],
   "source": []
  }
 ],
 "metadata": {
  "kernelspec": {
   "display_name": "Python 3",
   "language": "python",
   "name": "python3"
  },
  "language_info": {
   "codemirror_mode": {
    "name": "ipython",
    "version": 3
   },
   "file_extension": ".py",
   "mimetype": "text/x-python",
   "name": "python",
   "nbconvert_exporter": "python",
   "pygments_lexer": "ipython3",
   "version": "3.7.1-final"
  }
 },
 "nbformat": 4,
 "nbformat_minor": 2
}